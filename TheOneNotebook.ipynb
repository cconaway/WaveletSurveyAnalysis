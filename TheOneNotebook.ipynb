{
 "cells": [
  {
   "cell_type": "markdown",
   "id": "6b57fd1a-adb0-4cdb-8dba-8714124cf69b",
   "metadata": {},
   "source": [
    "### The One Notebook\n",
    "\n",
    "This notebook begins at the survey response csv and translates this data into useful structures for analysis. Like Bilbo in the heart of the Misty Mountains, we must answer these riddles 3 if we ever hope to see the other side: Extracting the Data, Translating to Rand Values, Calculating Embedded Values and BenchMarks."
   ]
  },
  {
   "cell_type": "code",
   "execution_count": 1,
   "id": "bb91b2ad-912c-4a9e-a472-60a05feb4109",
   "metadata": {},
   "outputs": [],
   "source": [
    "# Import Libraries\n",
    "\n",
    "#Standard Library\n",
    "import random\n",
    "import json\n",
    "import math\n",
    "import os\n",
    "import re\n",
    "\n",
    "#3rd Party Libraries\n",
    "import numpy as np\n",
    "import scipy.stats\n",
    "import matplotlib.pyplot as plt\n",
    "import PIL\n",
    "import pandas as pd\n",
    "\n",
    "#Warning Supression for Pandas Performance\n",
    "from warnings import simplefilter\n",
    "simplefilter(action=\"ignore\", category=pd.errors.PerformanceWarning)\n",
    "\n",
    "#Formatting\n",
    "%matplotlib inline\n",
    "%config InlineBackend.figure_format='retina'\n",
    "%config InlineBackend.rc = {'figure.facecolor': 'w'}"
   ]
  },
  {
   "cell_type": "markdown",
   "id": "d5956d43-8393-49cc-9f91-18414b22d38b",
   "metadata": {},
   "source": [
    "### Loading Data"
   ]
  },
  {
   "cell_type": "code",
   "execution_count": 2,
   "id": "d7b2bfb2-18a4-4dfa-bf3d-54d792893c0b",
   "metadata": {},
   "outputs": [
    {
     "name": "stdout",
     "output_type": "stream",
     "text": [
      "Shape of Qualtrics Data: (104, 621)\n",
      "Shape of Reference Data: (200, 5)\n"
     ]
    }
   ],
   "source": [
    "# Load Dataframes of the Response Data and the Decoding CSV of Img URLs\n",
    "\n",
    "#Set CSV Names\n",
    "QualtricsCSV = 'Responses100.csv'\n",
    "RandomizedPairingsCSV = 'SampleColorPairs.csv'\n",
    "\n",
    "#Create DataFrames\n",
    "Q_df = pd.read_csv(QualtricsCSV)\n",
    "R_df = pd.read_csv(RandomizedPairingsCSV) #reference dataframe\n",
    "\n",
    "#Print Shape\n",
    "print('Shape of Qualtrics Data:', Q_df.shape)\n",
    "print('Shape of Reference Data:', R_df.shape)"
   ]
  },
  {
   "cell_type": "markdown",
   "id": "d5a28e3a-f1a0-4b7f-9577-221d55269473",
   "metadata": {},
   "source": [
    "### Trimming Data "
   ]
  },
  {
   "cell_type": "code",
   "execution_count": 3,
   "id": "e6e2a595-c5f5-436e-a7d5-de679b4ff501",
   "metadata": {},
   "outputs": [
    {
     "name": "stdout",
     "output_type": "stream",
     "text": [
      "Trimmed Data frame shape:  (102, 200) \n",
      "\n",
      "    1_Q1_0_GROUP 2_Q1_0_GROUP 3_Q1_0_GROUP 4_Q1_0_GROUP 5_Q1_0_GROUP  \\\n",
      "2              2          NaN          NaN          NaN          NaN   \n",
      "3            NaN          NaN          NaN          NaN          NaN   \n",
      "4            NaN          NaN          NaN          NaN          NaN   \n",
      "5              1          NaN            2          NaN          NaN   \n",
      "6            NaN          NaN          NaN          NaN          NaN   \n",
      "..           ...          ...          ...          ...          ...   \n",
      "99           NaN          NaN          NaN          NaN          NaN   \n",
      "100            1          NaN          NaN          NaN          NaN   \n",
      "101            1            2          NaN          NaN          NaN   \n",
      "102          NaN          NaN            1          NaN          NaN   \n",
      "103          NaN          NaN          NaN            1          NaN   \n",
      "\n",
      "    6_Q1_0_GROUP 7_Q1_0_GROUP 8_Q1_0_GROUP 9_Q1_0_GROUP 10_Q1_0_GROUP  ...  \\\n",
      "2            NaN          NaN          NaN          NaN           NaN  ...   \n",
      "3            NaN          NaN          NaN          NaN           NaN  ...   \n",
      "4            NaN          NaN          NaN          NaN           NaN  ...   \n",
      "5              1          NaN          NaN          NaN           NaN  ...   \n",
      "6            NaN          NaN          NaN          NaN           NaN  ...   \n",
      "..           ...          ...          ...          ...           ...  ...   \n",
      "99           NaN          NaN            2          NaN           NaN  ...   \n",
      "100          NaN          NaN          NaN          NaN           NaN  ...   \n",
      "101          NaN          NaN          NaN          NaN           NaN  ...   \n",
      "102          NaN          NaN          NaN          NaN           NaN  ...   \n",
      "103          NaN          NaN          NaN          NaN           NaN  ...   \n",
      "\n",
      "    191_Q1_0_GROUP 192_Q1_0_GROUP 193_Q1_0_GROUP 194_Q1_0_GROUP  \\\n",
      "2              NaN            NaN            NaN              1   \n",
      "3              NaN            NaN            NaN            NaN   \n",
      "4              NaN            NaN            NaN            NaN   \n",
      "5              NaN            NaN            NaN            NaN   \n",
      "6                2            NaN            NaN            NaN   \n",
      "..             ...            ...            ...            ...   \n",
      "99             NaN            NaN            NaN            NaN   \n",
      "100            NaN            NaN            NaN            NaN   \n",
      "101            NaN            NaN            NaN            NaN   \n",
      "102              2            NaN            NaN            NaN   \n",
      "103              2            NaN            NaN            NaN   \n",
      "\n",
      "    195_Q1_0_GROUP 196_Q1_0_GROUP 197_Q1_0_GROUP 198_Q1_0_GROUP  \\\n",
      "2                2              1            NaN            NaN   \n",
      "3              NaN            NaN              1            NaN   \n",
      "4              NaN              1            NaN            NaN   \n",
      "5                2            NaN            NaN            NaN   \n",
      "6              NaN            NaN            NaN            NaN   \n",
      "..             ...            ...            ...            ...   \n",
      "99               2            NaN              2            NaN   \n",
      "100            NaN              2            NaN            NaN   \n",
      "101            NaN            NaN            NaN            NaN   \n",
      "102              2            NaN            NaN            NaN   \n",
      "103            NaN              1              2            NaN   \n",
      "\n",
      "    199_Q1_0_GROUP 200_Q1_0_GROUP  \n",
      "2              NaN            NaN  \n",
      "3              NaN              2  \n",
      "4              NaN            NaN  \n",
      "5                2            NaN  \n",
      "6              NaN            NaN  \n",
      "..             ...            ...  \n",
      "99             NaN            NaN  \n",
      "100            NaN            NaN  \n",
      "101            NaN            NaN  \n",
      "102            NaN            NaN  \n",
      "103              1            NaN  \n",
      "\n",
      "[102 rows x 200 columns]\n"
     ]
    },
    {
     "data": {
      "text/plain": [
       "'From onward, you can refer to the original data via ogQ_df'"
      ]
     },
     "execution_count": 3,
     "metadata": {},
     "output_type": "execute_result"
    }
   ],
   "source": [
    "# Due to Qualtrics formatting the data must be cut out of the group rank column\n",
    "#Misc Columns to Drop\n",
    "drop_columns = ['StartDate','ProlificID', 'EndDate', 'Status', 'IPAddress', 'Progress', \n",
    "                      'Duration (in seconds)', 'Finished', 'RecordedDate', 'ResponseId',\n",
    "                      'RecipientLastName', 'RecipientFirstName', 'RecipientEmail', 'ExternalReference',\n",
    "                      'LocationLatitude', 'LocationLongitude', 'DistributionChannel', 'UserLanguage', \n",
    "                      'EmbeddedData', 'Create New Field or Choose From Dropdown...', 'Q3']\n",
    "\n",
    "#Cut rank columns per question\n",
    "rank_cut = ['{}_Q1_0_1_RANK'.format(x) for x in range(1,201)]\n",
    "rank_cut_2 = ['{}_Q1_0_2_RANK'.format(x) for x in range(1,201)] \n",
    "drop_columns.extend(rank_cut)\n",
    "drop_columns.extend(rank_cut_2)\n",
    "\n",
    "#Drop the Columns\n",
    "Q_df = Q_df.drop(columns=drop_columns)\n",
    "\n",
    "#Remove the pesky 2nd header row\n",
    "Q_df = Q_df.iloc[2: , :]\n",
    "\n",
    "#Finally defragmenting the DataFrame for Performance\n",
    "ogQ_df = Q_df.copy()\n",
    "\n",
    "#Print the Dataframe: check for 200 questions.\n",
    "print('Trimmed Data frame shape: ', Q_df.shape, '\\n')\n",
    "print(Q_df)\n",
    "\n",
    "\"\"\"From onward, you can refer to the original data via ogQ_df\"\"\""
   ]
  },
  {
   "cell_type": "markdown",
   "id": "5162d2d0-43fa-4977-9b57-1463b8008770",
   "metadata": {},
   "source": [
    "### Translate Group Number to Rand Index"
   ]
  },
  {
   "cell_type": "code",
   "execution_count": 4,
   "id": "d1c32506-326a-4004-bc23-bbcc24c2a244",
   "metadata": {},
   "outputs": [],
   "source": [
    "# We will now translate the values that are not nan into the rand index\n",
    "#  of the corresponding question.\n",
    "\n",
    "#Lamba Function to retrieve Rand Indexes from reference csv\n",
    "def get_maxrand_index(x, q):\n",
    "    \n",
    "    response = 0\n",
    "    if isinstance(x, str): #If a string and not nan\n",
    "        if x == '1': #if 1, give filename\n",
    "            response = int(R_df['FileName'][q][:-4])\n",
    "        elif x == '2': #if 2, give associated pairing filename\n",
    "            response = int(R_df['RandFile'][q][:-4])   \n",
    "        else:\n",
    "            response = 0\n",
    "            \n",
    "    return response\n",
    "\n",
    "def get_minrand_index(x, q):\n",
    "    \n",
    "    response = 0\n",
    "    if isinstance(x, str): #If a string and not nan\n",
    "        if x == '1': #if 1, give filename\n",
    "            response = int(R_df['RandFile'][q][:-4]) \n",
    "        elif x == '2': #if 2, give associated pairing filename  \n",
    "            response = int(R_df['FileName'][q][:-4])\n",
    "        else:\n",
    "            response = 0\n",
    "            \n",
    "    return response\n",
    "\n",
    "#Running a loop that references R_df (reference_dataframe) for the index\n",
    "for q in range(0,Q_df.shape[1]):\n",
    "    Q_df['Similar_Q{}'.format(q+1)] = Q_df['{}_Q1_0_GROUP'.format(q+1)].apply(lambda x: get_maxrand_index(x, q))\n",
    "    Q_df['Different_Q{}'.format(q+1)] = Q_df['{}_Q1_0_GROUP'.format(q+1)].apply(lambda x: get_minrand_index(x, q))"
   ]
  },
  {
   "cell_type": "code",
   "execution_count": 5,
   "id": "3a9a5f37-58d4-4180-9b1d-2a60378b2153",
   "metadata": {},
   "outputs": [
    {
     "name": "stdout",
     "output_type": "stream",
     "text": [
      "(array([     0, 103355, 491072]), array([90, 10,  2]))\n"
     ]
    },
    {
     "data": {
      "text/plain": [
       "'One can reach this dataframe at any time using RandQ_df'"
      ]
     },
     "execution_count": 5,
     "metadata": {},
     "output_type": "execute_result"
    }
   ],
   "source": [
    "# Apologies for the massive errors, but the current version of pandas has an unresolved bug with\n",
    "#  format based column selection being percieved as fragmentation. \n",
    "#  Hopefully a contributer changes that soon\n",
    "\n",
    "#Let us relock onto the relevant portion of the dataframe.\n",
    "RandQ_df = Q_df.iloc[:, 200:]\n",
    "print(np.unique(RandQ_df['Similar_Q1'], return_counts=True))\n",
    "\n",
    "\"\"\"One can reach this dataframe at any time using RandQ_df\"\"\""
   ]
  },
  {
   "cell_type": "markdown",
   "id": "aef4062c-47e2-4749-a521-0293b23d03bc",
   "metadata": {},
   "source": [
    "### DataFrame Reference Text"
   ]
  },
  {
   "cell_type": "markdown",
   "id": "0ffd8b4a-bd1c-4590-bace-0007e2d1c8a6",
   "metadata": {},
   "source": [
    "    The RandQ_df dataframe provides two columns per question:\n",
    "    The Similar Column shows which image the participant selected as similar\n",
    "    The Different Column shows which image the participant selected as different\n",
    "    \n",
    "    *The Difference column is a mirror of the first, for ease of deducing matched\n",
    "        image pairs!\n",
    "    \n",
    "    To deduce the total number of votes one can sum the answers that\n",
    "    are not 0 in either of the columns.\n",
    "    \n",
    "    We will now export this dataframe as the defacto data to be analyzed."
   ]
  },
  {
   "cell_type": "markdown",
   "id": "944b2e50-f5f9-4551-8cef-d3f263e04e19",
   "metadata": {},
   "source": [
    "### Saving the DF to CSV"
   ]
  },
  {
   "cell_type": "code",
   "execution_count": 6,
   "id": "c9ac248a-ebe1-4bd8-ad36-c2934750eb28",
   "metadata": {},
   "outputs": [],
   "source": [
    "RandQ_df.to_csv('ResponseIndex.csv')"
   ]
  },
  {
   "cell_type": "markdown",
   "id": "922eb429-0cb4-49d1-bce2-e9c9c6e6058a",
   "metadata": {},
   "source": [
    "### Retrieving the BenchMark ID's & Calculating Embeddings\n",
    "\n",
    "To retrieve the benchmarks from the random set we need to calculate the cnn/wavlet embeddings and look for embeddings >= 0.5. First we need to retrive the embedding data."
   ]
  },
  {
   "cell_type": "code",
   "execution_count": 7,
   "id": "bcd028cd-3596-4d08-8f6c-f9ad2eeba690",
   "metadata": {},
   "outputs": [],
   "source": [
    "# Load the JzAzBz Array\n",
    "jzazbz_array_npy = np.load('./jzazbz_array.npy')\n",
    "\n",
    "#Defining Lists\n",
    "img_names = []\n",
    "colors = []\n",
    "jzazbz_colors = []\n",
    "rgb_colors = []\n",
    "jz_all = []\n",
    "az_all = []\n",
    "bz_all = []\n",
    "\n",
    "#Retrieve all sample files and place into an array of color lists\n",
    "for file in os.listdir('./block_stimuli'):\n",
    "    if not file.startswith('.'): #Prevents hidden files from being analyzed\n",
    "        \n",
    "        img_names.append(file)\n",
    "        color = np.array([float(re.search('\\[(.*?),', file).group(1)),\n",
    "                          float(re.search(',(.*?),', file).group(1)),\n",
    "                          float(re.search('0(.*?)\\]', file.split(' ')[-1]).group(1))])\n",
    "        \n",
    "        #Conversion from 0-1 to 0-255\n",
    "        colors.append(color*255.) \n",
    "        \n",
    "        #Rounding into rgb color space, note this conversion may bias to ceiling RGB levels.\n",
    "        rgb_colors.append([int(round(255.*color[0])), int(round(255.*color[1])), int(round(255.*color[2]))])\n",
    "        \n",
    "        #Appending rounded RGB to Jzazbz\n",
    "        jzazbz_colors.append(jzazbz_array_npy[int(round(255.*color[0])), int(round(255.*color[1])), int(round(255.*color[2]))])\n",
    "        \n",
    "        #More appending\n",
    "        jz_all.append(jzazbz_array_npy[int(round(255.*color[0])), int(round(255.*color[1])), int(round(255.*color[2]))][0])\n",
    "        az_all.append(jzazbz_array_npy[int(round(255.*color[0])), int(round(255.*color[1])), int(round(255.*color[2]))][1])\n",
    "        bz_all.append(jzazbz_array_npy[int(round(255.*color[0])), int(round(255.*color[1])), int(round(255.*color[2]))][2])\n",
    "\n",
    "#Distribution Array, Square\n",
    "dists = np.zeros((len(jzazbz_colors),len(jzazbz_colors)))\n",
    "\n",
    "#RGB distribution array\n",
    "rgb_dists = np.zeros((len(jzazbz_colors),len(jzazbz_colors)))\n",
    "\n",
    "#Some form of files array\n",
    "files1 = np.empty((len(jzazbz_colors),len(jzazbz_colors))).tolist()\n",
    "files2 = np.empty((len(jzazbz_colors),len(jzazbz_colors))).tolist()\n",
    "\n",
    "#Color difference pair arrays\n",
    "colors1 = np.empty((len(jzazbz_colors),len(jzazbz_colors),3))\n",
    "colors2 = np.empty((len(jzazbz_colors),len(jzazbz_colors),3))\n",
    "\n",
    "#Place to save means and differences\n",
    "jz_all_mean = np.zeros((len(jzazbz_colors),len(jzazbz_colors)))\n",
    "jz_all_diff = np.zeros((len(jzazbz_colors),len(jzazbz_colors)))\n",
    "az_all_mean = np.zeros((len(jzazbz_colors),len(jzazbz_colors)))\n",
    "az_all_diff = np.zeros((len(jzazbz_colors),len(jzazbz_colors)))\n",
    "bz_all_mean = np.zeros((len(jzazbz_colors),len(jzazbz_colors)))\n",
    "bz_all_diff = np.zeros((len(jzazbz_colors),len(jzazbz_colors)))\n",
    "\n",
    "\n",
    "for i, color1 in enumerate(jzazbz_colors):\n",
    "    for j,color2 in enumerate(jzazbz_colors):\n",
    "        \n",
    "        #Calculating Color distances in Euclidean Space\n",
    "        dists[i][j] = np.sqrt((color1[0]-color2[0])**2+(color1[1]-color2[1])**2+(color1[2]-color2[2])**2)\n",
    "        \n",
    "        #Euclidean distances of RGB space\n",
    "        rgb_dists[i][j] = np.sqrt((rgb_colors[i][0]-rgb_colors[j][0])**2+(rgb_colors[i][1]-rgb_colors[j][1])**2+(rgb_colors[i][2]-rgb_colors[j][2])**2)\n",
    "        \n",
    "        files1[i][j] = img_names[i]\n",
    "        files2[i][j] = img_names[j]\n",
    "        \n",
    "        colors1[i][j] = rgb_colors[i]\n",
    "        colors2[i][j] = rgb_colors[j]\n",
    "        \n",
    "        jz_all_mean[i][j] = 0.5*(jz_all[i]+jz_all[j])\n",
    "        jz_all_diff[i][j] = np.abs(jz_all[i]-jz_all[j])\n",
    "        az_all_mean[i][j] = 0.5*(az_all[i]+az_all[j])\n",
    "        az_all_diff[i][j] = np.abs(az_all[i]-az_all[j])\n",
    "        bz_all_mean[i][j] = 0.5*(bz_all[i]+bz_all[j])\n",
    "        bz_all_diff[i][j] = np.abs(bz_all[i]-bz_all[j])\n",
    "        \n",
    "#All distributions\n",
    "dists = np.ravel(dists) \n",
    "\n",
    "#made from taking the distrubtions and subtraciting the means\n",
    "minmax_dists = (dists-np.min(dists))/(np.max(dists)-np.min(dists))\n",
    "rgb_dists = np.ravel(rgb_dists)\n",
    "rgb_minmax_dists = (rgb_dists-np.min(rgb_dists))/(np.max(rgb_dists)-np.min(rgb_dists))\n"
   ]
  },
  {
   "cell_type": "code",
   "execution_count": 8,
   "id": "f0fe669d-a823-4ce1-a134-cabfb27023f9",
   "metadata": {},
   "outputs": [],
   "source": [
    "#JzAzBz Means\n",
    "jz_all_mean = np.ravel(jz_all_mean)\n",
    "minmax_jz_all_mean = (jz_all_mean-np.min(jz_all_mean))/(np.max(jz_all_mean)-np.min(jz_all_mean))\n",
    "\n",
    "jz_all_diff = np.ravel(jz_all_diff)\n",
    "minmax_jz_all_diff = (jz_all_diff-np.min(jz_all_diff))/(np.max(jz_all_diff)-np.min(jz_all_diff))\n",
    "\n",
    "az_all_mean = np.ravel(az_all_mean)\n",
    "minmax_az_all_mean = (az_all_mean-np.min(az_all_mean))/(np.max(az_all_mean)-np.min(az_all_mean))\n",
    "\n",
    "az_all_diff = np.ravel(az_all_diff)\n",
    "minmax_az_all_diff = (az_all_diff-np.min(az_all_diff))/(np.max(az_all_diff)-np.min(az_all_diff))\n",
    "\n",
    "bz_all_mean = np.ravel(bz_all_mean)\n",
    "minmax_bz_all_mean = (bz_all_mean-np.min(bz_all_mean))/(np.max(bz_all_mean)-np.min(bz_all_mean))\n",
    "\n",
    "bz_all_diff = np.ravel(bz_all_diff)\n",
    "minmax_bz_all_diff = (bz_all_diff-np.min(bz_all_diff))/(np.max(bz_all_diff)-np.min(bz_all_diff))"
   ]
  },
  {
   "cell_type": "code",
   "execution_count": 9,
   "id": "6fd350d5-6074-4993-bbda-811ced453698",
   "metadata": {},
   "outputs": [],
   "source": [
    "#Wavelet Embeddings Generation\n",
    "wavelet_jzazbz = np.loadtxt('block_stimuli_coeffs_jzazbz.txt')\n",
    "wavelet_grayscaled = np.loadtxt('block_stimuli_coeffs_grey.txt')\n",
    "df = pd.read_csv('data_files_list.txt', header=None, sep='\\r\\n', engine='python') # sep='\\n'\n",
    "img_names_wavelet_order = []\n",
    "\n",
    "\n",
    "for i in range(len(df.values)):\n",
    "    img_names_wavelet_order.append(df.values[i])\n",
    "    \n",
    "wavelet_embeddings = []\n",
    "wavelet_embeddings_grayscaled = []\n",
    "\n",
    "for img in img_names:\n",
    "    for i in range(len(img_names_wavelet_order)):\n",
    "        #print(i, img_names_wavelet_order[i][0])\n",
    "        if img == img_names_wavelet_order[i]:\n",
    "            wavelet_embeddings.append(wavelet_jzazbz[i])\n",
    "            wavelet_embeddings_grayscaled.append(wavelet_grayscaled[i])\n",
    "        \n",
    "wavelet_dists = np.zeros((len(wavelet_embeddings),len(wavelet_embeddings)))\n",
    "\n",
    "for i,wavelet1 in enumerate(wavelet_embeddings):\n",
    "    for j,wavelet2 in enumerate(wavelet_embeddings):\n",
    "        wavelet_dists[i][j] = np.dot(wavelet1,wavelet2)/(np.sqrt(np.dot(wavelet1,wavelet1)*np.dot(wavelet2,wavelet2)))\n",
    "\n",
    "        \n",
    "wavelet_dists = np.ravel(wavelet_dists)\n",
    "minmax_wavelet_dists = (wavelet_dists-np.min(wavelet_dists))/(np.max(wavelet_dists)-np.min(wavelet_dists))\n",
    "\n",
    "wavelet_dists_grayscaled = np.zeros((len(wavelet_embeddings_grayscaled),len(wavelet_embeddings_grayscaled)))\n",
    "\n",
    "for i,wavelet1 in enumerate(wavelet_embeddings_grayscaled):\n",
    "    for j,wavelet2 in enumerate(wavelet_embeddings_grayscaled):\n",
    "        wavelet_dists_grayscaled[i][j] = np.dot(wavelet1,wavelet2)/(np.sqrt(np.dot(wavelet1,wavelet1)*np.dot(wavelet2,wavelet2)))\n",
    "\n",
    "wavelet_dists_grayscaled = np.ravel(wavelet_dists_grayscaled)\n",
    "minmax_wavelet_dists_grayscaled = (wavelet_dists_grayscaled-np.min(wavelet_dists_grayscaled))/(np.max(wavelet_dists_grayscaled)-np.min(wavelet_dists_grayscaled))"
   ]
  },
  {
   "cell_type": "code",
   "execution_count": 10,
   "id": "717e03bc-dff0-43be-8ba7-89c6a17506e1",
   "metadata": {},
   "outputs": [],
   "source": [
    "#CNN Embeddings\n",
    "with open('block_stimuli_resnet.json', 'r') as fp:\n",
    "    cnn = json.load(fp)\n",
    "    \n",
    "cnn_embeddings = []\n",
    "\n",
    "for name in img_names:\n",
    "    cnn_embeddings.append(cnn[name[0:-4]])\n",
    "    \n",
    "cnn_dists = np.zeros((len(cnn_embeddings),len(cnn_embeddings)))\n",
    "\n",
    "for i,cnn1 in enumerate(cnn_embeddings):\n",
    "    for j,cnn2 in enumerate(cnn_embeddings):\n",
    "        cnn_dists[i][j] = np.dot(cnn1,cnn2)/(np.sqrt(np.dot(cnn1,cnn1)*np.dot(cnn2,cnn2)))\n",
    "        \n",
    "cnn_dists = np.ravel(cnn_dists)\n",
    "minmax_cnn_dists = (cnn_dists-np.min(cnn_dists))/(np.max(cnn_dists)-np.min(cnn_dists))"
   ]
  },
  {
   "cell_type": "markdown",
   "id": "4041a1e0-a453-4e38-b989-683407257189",
   "metadata": {},
   "source": [
    "### Finding Benchmark IDs"
   ]
  },
  {
   "cell_type": "code",
   "execution_count": 11,
   "id": "9812b619-4e9c-4b8d-be53-e456b0cfd409",
   "metadata": {},
   "outputs": [
    {
     "name": "stdout",
     "output_type": "stream",
     "text": [
      "Length of Rands:  200 \n",
      "\n",
      "[103355, 107450, 110268, 114352, 120151, 121958, 125657, 128148, 128391, 129473, 129981, 131932, 135230, 137337, 139182, 149503, 152617, 155576, 156542, 156730, 157164, 158823, 171829, 171836, 171890, 173416, 175203, 177247, 177789, 177804, 17955, 184779, 191335, 197775, 199041, 20056, 214176, 218126, 220884, 220984, 22671, 231915, 235167, 235362, 235796, 239931, 248710, 252764, 256840, 258795, 259178, 269536, 270936, 273538, 278167, 286103, 288790, 291999, 298356, 312252, 314877, 319030, 321879, 327069, 32711, 328947, 329365, 331236, 347449, 349457, 350605, 351279, 364167, 365838, 365871, 365890, 366326, 384681, 385777, 39081, 400573, 41090, 416880, 420571, 421909, 435564, 43585, 439792, 452366, 454351, 461243, 473254, 482690, 486232, 489492, 491072, 500186, 500328, 501108, 516349, 51663, 519332, 521430, 52528, 527035, 528178, 529036, 536226, 539439, 543176, 54886, 555839, 559042, 564685, 565894, 568550, 573665, 579879, 591723, 592673, 593128, 601661, 601863, 607086, 612210, 61476, 61629, 618467, 618992, 623094, 627083, 627234, 627438, 631347, 638353, 644167, 648143, 64820, 648663, 650308, 654811, 65725, 660890, 665987, 671155, 681669, 690607, 690907, 691095, 699438, 702965, 704107, 718315, 721747, 721772, 725256, 72991, 731899, 732180, 734965, 734994, 743974, 750201, 755073, 760463, 764121, 772838, 776997, 787201, 790180, 791743, 791971, 805889, 822209, 822352, 84654, 856703, 858158, 870910, 873332, 874371, 87498, 889765, 899159, 902648, 905778, 912756, 917040, 918232, 924618, 941218, 941970, 953277, 954698, 955592, 969587, 973324, 978217, 989436, 990198]\n"
     ]
    }
   ],
   "source": [
    "# Using R_df we retrieve a list of rands. \n",
    "\n",
    "rand_column = R_df['FileName'].tolist()\n",
    "rands = [int(i[:-4]) for i in rand_column]\n",
    "\n",
    "print('Length of Rands: ', len(rands), '\\n')\n",
    "print(rands)"
   ]
  },
  {
   "cell_type": "code",
   "execution_count": 12,
   "id": "d9ca6092-9443-4fc1-8762-11efeb43b106",
   "metadata": {},
   "outputs": [
    {
     "data": {
      "image/png": "[encoded data removed]",
      "text/plain": [
       "<Figure size 576x576 with 1 Axes>"
      ]
     },
     "metadata": {
      "image/png": {
       "height": 495,
       "width": 519
      },
      "needs_background": "light"
     },
     "output_type": "display_data"
    },
    {
     "name": "stdout",
     "output_type": "stream",
     "text": [
      "Length of Benchmark Set:  60\n",
      "Benchmark Set:  [110268, 121958, 129981, 131932, 137337, 149503, 175203, 184779, 199041, 235796, 239931, 256840, 258795, 259178, 270936, 273538, 278167, 319030, 327069, 328947, 329365, 331236, 347449, 349457, 365838, 384681, 41090, 421909, 452366, 473254, 486232, 489492, 500186, 521430, 527035, 528178, 54886, 565894, 591723, 648143, 64820, 654811, 65725, 665987, 718315, 732180, 776997, 787201, 791743, 84654, 870910, 87498, 899159, 902648, 905778, 912756, 917040, 953277, 954698, 989436]\n"
     ]
    }
   ],
   "source": [
    "fig, ax = plt.subplots(figsize=(8,8))\n",
    "benchmark_index = []\n",
    "\n",
    "#Plot Pairs in \n",
    "for rand in rands:\n",
    "    \n",
    "    #ColorA\n",
    "    a = minmax_cnn_dists[minmax_dists>0.][rand]\n",
    "    b = minmax_wavelet_dists[minmax_dists>0.][rand]\n",
    "    \n",
    "    #ColorB\n",
    "    c = -0.01+minmax_cnn_dists[minmax_dists>0.][rand]\n",
    "    d = minmax_wavelet_dists[minmax_dists>0.][rand]\n",
    "    \n",
    "    color1 = np.array(colors1).reshape(1000000,3)[minmax_dists>0.][rand]/255.\n",
    "    color2 = np.ravel(colors2).reshape(1000000,3)[minmax_dists>0.][rand]/255.\n",
    "    \n",
    "    #If CNN and Wavlet Embedding is > 0.5, then plot and add to benchmark index.\n",
    "    if a > 0.5 and b > 0.5:\n",
    "        ax.scatter(a,b, marker='s',s=30,alpha=1., color=color1)\n",
    "        ax.scatter(c,d, marker='s',s=30,alpha=1., color=color2)\n",
    "        \n",
    "        benchmark_index.append(rand)\n",
    "    \n",
    "plt.plot(np.ones(10)*0.5,np.linspace(0.,1.,10),'k--',alpha=0.5)\n",
    "plt.plot(np.linspace(0.,1.,10),np.ones(10)*0.5,'k--',alpha=0.5)\n",
    "\n",
    "plt.xticks([0.,0.2,0.4,0.6,0.8,1.0],fontsize=16)\n",
    "plt.yticks([0.,0.2,0.4,0.6,0.8,1.0],fontsize=16)\n",
    "\n",
    "plt.xlabel(r'Convolutional DNN Similarity',fontsize=20)\n",
    "plt.ylabel(r'$J_z A_z B_z$ Wavelet Similarity',fontsize=20)\n",
    "plt.show()\n",
    "\n",
    "print('Length of Benchmark Set: ', len(benchmark_index))\n",
    "print('Benchmark Set: ', benchmark_index)"
   ]
  },
  {
   "cell_type": "markdown",
   "id": "42ab8726-7fb6-4f94-83e5-15def7e34a53",
   "metadata": {},
   "source": [
    "### Creating Embedding Dataframe & Mapping Embeddings"
   ]
  },
  {
   "cell_type": "code",
   "execution_count": 88,
   "id": "43ea472c-f0d8-4f70-ab54-ed57bd097b87",
   "metadata": {},
   "outputs": [],
   "source": [
    "#Make Lists and apply all to the dataframe\n",
    "cnn = []\n",
    "wav = []\n",
    "jzazbz = []\n",
    "rgb = []\n",
    "benchmark = []\n",
    "\n",
    "# Retrieving Embeddings for every Rand Index Value\n",
    "for rand in rands: \n",
    "    cnn_embed = minmax_cnn_dists[minmax_dists>0.][rand]\n",
    "    wav_embed = minmax_wavelet_dists[minmax_dists>0.][rand]\n",
    "    jzazbz_embed = minmax_jz_all_mean[minmax_dists>0.][rand]\n",
    "    rgb_embed = rgb_minmax_dists[minmax_dists>0.][rand]\n",
    "    \n",
    "    bench = False\n",
    "    if rand in benchmark_index:\n",
    "        bench = True\n",
    "        \n",
    "    cnn.append(cnn_embed)\n",
    "    wav.append(wav_embed)\n",
    "    jzazbz.append(jzazbz_embed)\n",
    "    rgb.append(rgb_embed)\n",
    "    benchmark.append(bench)"
   ]
  },
  {
   "cell_type": "code",
   "execution_count": 89,
   "id": "a69dd619-b35a-46cf-a35e-8d6bf4fed892",
   "metadata": {},
   "outputs": [
    {
     "name": "stdout",
     "output_type": "stream",
     "text": [
      "Shape of vote array:  (200, 4)\n",
      "[[103355     10 491072      2]\n",
      " [149503     16 107450      0]\n",
      " [110268      7  17955      5]\n",
      " [732180      6 114352      5]\n",
      " [120151     12 618992      1]\n",
      " [121958      6 568550      0]\n",
      " [349457      6 125657      2]\n",
      " [128148      4 791743      2]\n",
      " [128391      5 822352      3]\n",
      " [239931     12 129473      0]\n",
      " [129981     15 329365      0]\n",
      " [131932      7 889765      6]\n",
      " [764121     10 135230      6]\n",
      " [137337      8 385777      3]\n",
      " [912756     12 139182      2]\n",
      " [149503     15 858158      0]\n",
      " [288790      6 152617      1]\n",
      " [718315      3 155576      3]\n",
      " [416880      8 156542      4]\n",
      " [347449      8 156730      6]]\n"
     ]
    }
   ],
   "source": [
    "#Getting Majority and Minority Votes for each pair from RandQ_df\n",
    "vote_array = np.empty((200,4), dtype='int')\n",
    "\n",
    "for q in range(0,200):\n",
    "    \n",
    "    #Sorted Array of Majority Voted Similar\n",
    "    a = RandQ_df['Similar_Q{}'.format(q+1)].where(RandQ_df['Similar_Q{}'.format(q+1)]!=0).value_counts()\n",
    "    \n",
    "    #Sorted Array of Majority Voted Different (used to index in the case of 100% A votes.)\n",
    "    b = RandQ_df['Different_Q{}'.format(q+1)].where(RandQ_df['Different_Q{}'.format(q+1)]!=0).value_counts()\n",
    "    \n",
    "    #total votes\n",
    "    c = np.sum(a[:])\n",
    "    \n",
    "    #Array format: Index of majority similar, Votes, Index of Minority, Votes\n",
    "    vote_array[q]= int(a.index[0]), a.iloc[0], b.index[0], (c-b.iloc[0])\n",
    "\n",
    "print('Shape of vote array: ',vote_array.shape)\n",
    "print(vote_array[:20])"
   ]
  },
  {
   "cell_type": "code",
   "execution_count": 92,
   "id": "40cce371-1e56-41f7-8aad-4e2ee6486683",
   "metadata": {},
   "outputs": [],
   "source": [
    "\n",
    "out = []\n",
    "for pair in vote_array:\n",
    "    major = int(np.where(rands == pair[0])[0])\n",
    "    minor = int(np.where(rands == pair[2])[0])\n",
    "    \n",
    "    out.append([rands[major], pair[1], pair[2], pair[3], \n",
    "          cnn[major], cnn[minor], \n",
    "          wav[major], wav[minor], \n",
    "          jzazbz[major], jzazbz[minor],\n",
    "          rgb[major], rgb[minor],\n",
    "          benchmark[major], benchmark[minor]])\n",
    "    \n",
    "    '''\n",
    "    print(rands[major], pair[1], pair[2], pair[3], \n",
    "          cnn[major], cnn[minor], \n",
    "          wav[major], wav[minor], \n",
    "          jzazbz[major], jzazbz[minor],\n",
    "          rgb[major], rgb[minor],\n",
    "          benchmark[major], benchmark[minor]\n",
    "         )'''\n",
    "    "
   ]
  },
  {
   "cell_type": "code",
   "execution_count": 93,
   "id": "cf2be7d3-96c0-4629-bd80-4bdcbdcde8c0",
   "metadata": {},
   "outputs": [
    {
     "name": "stdout",
     "output_type": "stream",
     "text": [
      "     RandSimilar  MajorityVote  RandDifferent  MinorityVote  MajorCNN  \\\n",
      "0         103355            10         491072             2  0.442575   \n",
      "1         149503            16         107450             0  0.727279   \n",
      "2         110268             7          17955             5  0.710107   \n",
      "3         732180             6         114352             5  0.632895   \n",
      "4         120151            12         618992             1  0.285419   \n",
      "..           ...           ...            ...           ...       ...   \n",
      "195       969587             8         529036             6  0.412947   \n",
      "196       139182             9         973324             6  0.666255   \n",
      "197       978217             4         482690             2  0.294154   \n",
      "198       873332             7         989436             4  0.554749   \n",
      "199       521430            14         990198             0  0.969299   \n",
      "\n",
      "     MinorCNN  MajorWavelet  MinorWavelet  MajorJzAzBz  MinorJzAzBz  MajorRGB  \\\n",
      "0    0.398159      0.651812      0.924303     0.365563     0.715161  0.409240   \n",
      "1    0.488641      0.764528      0.779164     0.768355     0.764542  0.381319   \n",
      "2    0.638062      0.600786      0.350383     0.453107     0.555344  0.413856   \n",
      "3    0.554084      0.725515      0.342885     0.367955     0.520901  0.443562   \n",
      "4    0.365022      0.852558      0.685151     0.609616     0.676904  0.405313   \n",
      "..        ...           ...           ...          ...          ...       ...   \n",
      "195  0.240092      0.825176      0.794913     0.435411     0.504936  0.384909   \n",
      "196  0.607848      0.271759      0.425047     0.436664     0.633716  0.571111   \n",
      "197  0.323279      0.819059      0.845588     0.871016     0.746257  0.592539   \n",
      "198  0.796268      0.398430      0.673612     0.541313     0.661980  0.613489   \n",
      "199  0.656114      0.997955      0.295043     0.772306     0.652682  0.110119   \n",
      "\n",
      "     MinorRGB  MajorIsBenchmark  MinorIsBenchmark  \n",
      "0    0.530442             False             False  \n",
      "1    0.730979              True             False  \n",
      "2    0.555197              True             False  \n",
      "3    0.560659              True             False  \n",
      "4    0.651121             False             False  \n",
      "..        ...               ...               ...  \n",
      "195  0.544177             False             False  \n",
      "196  0.579121             False             False  \n",
      "197  0.503474             False             False  \n",
      "198  0.551025             False              True  \n",
      "199  0.702678              True             False  \n",
      "\n",
      "[200 rows x 14 columns]\n"
     ]
    }
   ],
   "source": [
    "# One Frame to rule them all, One Frame to find them, One Frame to bring them all, and in the notebook bind them\n",
    "TheOneFrame = pd.DataFrame(out, columns = [\n",
    "                            'RandSimilar',  'MajorityVote',\n",
    "                            'RandDifferent', 'MinorityVote',\n",
    "                            'MajorCNN', 'MinorCNN',\n",
    "                            'MajorWavelet', 'MinorWavelet',\n",
    "                            'MajorJzAzBz', 'MinorJzAzBz',\n",
    "                            'MajorRGB', 'MinorRGB',\n",
    "                            'MajorIsBenchmark','MinorIsBenchmark'\n",
    "                           ]) \n",
    "\n",
    "print(TheOneFrame)\n",
    "TheOneFrame.to_csv('TheOneFrame.csv')"
   ]
  },
  {
   "cell_type": "code",
   "execution_count": null,
   "id": "e002d31c-3527-40aa-bc40-701e25284ef1",
   "metadata": {},
   "outputs": [],
   "source": []
  }
 ],
 "metadata": {
  "kernelspec": {
   "display_name": "Python 3",
   "language": "python",
   "name": "python3"
  },
  "language_info": {
   "codemirror_mode": {
    "name": "ipython",
    "version": 3
   },
   "file_extension": ".py",
   "mimetype": "text/x-python",
   "name": "python",
   "nbconvert_exporter": "python",
   "pygments_lexer": "ipython3",
   "version": "3.9.12"
  }
 },
 "nbformat": 4,
 "nbformat_minor": 5
}
